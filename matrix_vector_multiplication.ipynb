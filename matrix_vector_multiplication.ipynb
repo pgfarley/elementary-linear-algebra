{
 "cells": [
  {
   "cell_type": "code",
   "execution_count": 62,
   "metadata": {},
   "outputs": [
    {
     "name": "stdout",
     "output_type": "stream",
     "text": [
      "   1   1   1   1\n",
      "   2   2   2   2\n"
     ]
    },
    {
     "data": {
      "text/markdown": [
       "$$ \\begin{bmatrix}     x_{11}       & x_{12} & x_{13} & \\dots & x_{1n} \\\\     x_{21}       & x_{22} & x_{23} & \\dots & x_{2n} \\\\     x_{d1}       & x_{d2} & x_{d3} & \\dots & x_{dn} \\\\ \\end{bmatrix} \\begin{bmatrix}     x_{11} \\\\     x_{21} \\\\     x_{d1} \\end{bmatrix} $$"
      ],
      "text/plain": [
       "<IPython.core.display.Markdown object>"
      ]
     },
     "metadata": {},
     "output_type": "display_data"
    }
   ],
   "source": [
    "from IPython.display import display, Markdown, Latex\n",
    "\n",
    "\n",
    "x = [1, 2, 3, 4]\n",
    "A = [[1, 1, 1, 1], [2, 2, 2, 2]]\n",
    "\n",
    "print('\\n'.join([''.join(['{:4}'.format(item) for item in row]) \n",
    "      for row in A]))\n",
    "\n",
    "display(Markdown('$$ \\\n",
    "\\\\begin{bmatrix} \\\n",
    "    x_{11}       & x_{12} & x_{13} & \\dots & x_{1n} \\\\\\\\ \\\n",
    "    x_{21}       & x_{22} & x_{23} & \\dots & x_{2n} \\\\\\\\ \\\n",
    "    x_{d1}       & x_{d2} & x_{d3} & \\dots & x_{dn} \\\\\\\\ \\\n",
    "\\\\end{bmatrix} \\\n",
    "\\\\begin{bmatrix} \\\n",
    "    x_{11} \\\\\\\\ \\\n",
    "    x_{21} \\\\\\\\ \\\n",
    "    x_{d1} \\\\\\\\ \\\n",
    "\\\\end{bmatrix} \\\n",
    "$$'))\n"
   ]
  },
  {
   "cell_type": "code",
   "execution_count": null,
   "metadata": {
    "collapsed": true
   },
   "outputs": [],
   "source": []
  },
  {
   "cell_type": "code",
   "execution_count": null,
   "metadata": {
    "collapsed": true
   },
   "outputs": [],
   "source": []
  }
 ],
 "metadata": {
  "kernelspec": {
   "display_name": "Python 3",
   "language": "python",
   "name": "python3"
  },
  "language_info": {
   "codemirror_mode": {
    "name": "ipython",
    "version": 3
   },
   "file_extension": ".py",
   "mimetype": "text/x-python",
   "name": "python",
   "nbconvert_exporter": "python",
   "pygments_lexer": "ipython3",
   "version": "3.6.3"
  }
 },
 "nbformat": 4,
 "nbformat_minor": 2
}
