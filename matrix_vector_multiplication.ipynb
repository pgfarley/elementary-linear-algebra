{
 "cells": [
  {
   "cell_type": "code",
   "execution_count": 160,
   "metadata": {
    "collapsed": true
   },
   "outputs": [],
   "source": [
    "from IPython.display import display, Markdown"
   ]
  },
  {
   "cell_type": "code",
   "execution_count": 161,
   "metadata": {
    "collapsed": true
   },
   "outputs": [],
   "source": [
    "# Example data\n",
    "\n",
    "x = [1, 2, 3, 4, 5]\n",
    "A = [[1, 1, 1, 1, 1], [2, 2, 2, 2, 2], [3, 3, 3, 3, 3]]\n"
   ]
  },
  {
   "cell_type": "code",
   "execution_count": 162,
   "metadata": {
    "scrolled": true
   },
   "outputs": [
    {
     "data": {
      "text/markdown": [
       "### Problem"
      ],
      "text/plain": [
       "<IPython.core.display.Markdown object>"
      ]
     },
     "metadata": {},
     "output_type": "display_data"
    },
    {
     "data": {
      "text/markdown": [
       "$$ \\begin{align*} \\begin{bmatrix} 1 & 1 & 1 & 1 & 1\\\\ 2 & 2 & 2 & 2 & 2\\\\ 3 & 3 & 3 & 3 & 3\\end{bmatrix} \\begin{bmatrix}1\\\\ 2\\\\ 3\\\\ 4\\\\ 5\\end{bmatrix} \\\\ \\end{align*} $$"
      ],
      "text/plain": [
       "<IPython.core.display.Markdown object>"
      ]
     },
     "metadata": {},
     "output_type": "display_data"
    }
   ],
   "source": [
    "\n",
    "\n",
    "display(Markdown('### Problem'))\n",
    "\n",
    "display(Markdown('$$ \\\n",
    "\\\\begin{align*} \\\n",
    "\\\\begin{bmatrix} ' +  \n",
    "'\\\\\\\\ '.join([' & '.join([str(entry) for entry in row]) for row in A]) +\n",
    "'\\\\end{bmatrix} \\\n",
    "\\\\begin{bmatrix}' +\n",
    "'\\\\\\\\ '.join([str(entry) for entry in x]) +\n",
    "'\\\\end{bmatrix} \\\\\\\\ \\\n",
    "\\\\end{align*} \\\n",
    "$$'))\n",
    "\n"
   ]
  },
  {
   "cell_type": "code",
   "execution_count": 166,
   "metadata": {},
   "outputs": [
    {
     "data": {
      "text/markdown": [
       "### Step 1"
      ],
      "text/plain": [
       "<IPython.core.display.Markdown object>"
      ]
     },
     "metadata": {},
     "output_type": "display_data"
    },
    {
     "data": {
      "text/markdown": [
       "$$ = \\begin{bmatrix} (1 * 1) + (2 * 1) + (3 * 1) + (4 * 1) + (5 * 1)\\\\ (1 * 2) + (2 * 2) + (3 * 2) + (4 * 2) + (5 * 2)\\\\ (1 * 3) + (2 * 3) + (3 * 3) + (4 * 3) + (5 * 3)\\end{bmatrix} $$  "
      ],
      "text/plain": [
       "<IPython.core.display.Markdown object>"
      ]
     },
     "metadata": {},
     "output_type": "display_data"
    }
   ],
   "source": [
    "display(Markdown('### Step 1'))\n",
    "\n",
    "display(Markdown('$$ \\\n",
    "= \\\n",
    "\\\\begin{bmatrix} ' +  \n",
    "'\\\\\\\\ '.join([' + '.join(['(' + str(x[i]) + ' * ' + str(row[i]) + ')' for i in range(len(x))]) for row in A]) +\n",
    "'\\\\end{bmatrix} \\\n",
    "$$  '))\n",
    "\n"
   ]
  },
  {
   "cell_type": "code",
   "execution_count": 165,
   "metadata": {},
   "outputs": [
    {
     "data": {
      "text/markdown": [
       "### Solution"
      ],
      "text/plain": [
       "<IPython.core.display.Markdown object>"
      ]
     },
     "metadata": {},
     "output_type": "display_data"
    },
    {
     "data": {
      "text/markdown": [
       "$$ = \\begin{bmatrix} 15\\\\ 30\\\\ 45\\end{bmatrix} $$"
      ],
      "text/plain": [
       "<IPython.core.display.Markdown object>"
      ]
     },
     "metadata": {},
     "output_type": "display_data"
    }
   ],
   "source": [
    "display(Markdown('### Solution'))\n",
    "display(Markdown('$$ \\\n",
    "= \\\n",
    "\\\\begin{bmatrix} ' +  \n",
    "'\\\\\\\\ '.join([str(sum([x[i] * row[i] for i in range(len(x))])) for row in A]) +\n",
    "'\\\\end{bmatrix} \\\n",
    "$$'))\n",
    "\n"
   ]
  }
 ],
 "metadata": {
  "kernelspec": {
   "display_name": "Python 3",
   "language": "python",
   "name": "python3"
  },
  "language_info": {
   "codemirror_mode": {
    "name": "ipython",
    "version": 3
   },
   "file_extension": ".py",
   "mimetype": "text/x-python",
   "name": "python",
   "nbconvert_exporter": "python",
   "pygments_lexer": "ipython3",
   "version": "3.6.3"
  }
 },
 "nbformat": 4,
 "nbformat_minor": 2
}
